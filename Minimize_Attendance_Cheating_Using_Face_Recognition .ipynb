{
  "nbformat": 4,
  "nbformat_minor": 0,
  "metadata": {
    "colab": {
      "provenance": []
    },
    "kernelspec": {
      "name": "python3",
      "display_name": "Python 3"
    },
    "language_info": {
      "name": "python"
    }
  },
  "cells": [
    {
      "cell_type": "code",
      "execution_count": null,
      "metadata": {
        "id": "x_fre2bEol0-"
      },
      "outputs": [],
      "source": [
        "import os\n",
        "from os import listdir\n",
        "from PIL import Image as Img\n",
        "from numpy import asarray\n",
        "from numpy import expand_dims\n",
        "from matplotlib import pyplot\n",
        "from keras.models import load_model\n",
        "import numpy as np\n",
        "import tensorflow as tf\n",
        "\n",
        "import pickle\n",
        "import cv2"
      ]
    },
    {
      "cell_type": "code",
      "source": [
        "HaarCascade = cv2.CascadeClassifier(cv2.samples.findFile(cv2.data.haarcascades + 'haarcascade_frontalface_default.xml'))"
      ],
      "metadata": {
        "id": "n4L8fAIutwQC"
      },
      "execution_count": null,
      "outputs": []
    },
    {
      "cell_type": "code",
      "source": [
        "facedetect = cv2.CascadeClassifier('haarcascade_frontalface_default.xml')"
      ],
      "metadata": {
        "id": "BPOb6F7Woupv"
      },
      "execution_count": null,
      "outputs": []
    },
    {
      "cell_type": "code",
      "source": [
        "cap=cv2.VideoCapture(0)\n",
        "cap.set(3, 640)\n",
        "cap.set(4, 480)\n",
        "font=cv2.FONT_HERSHEY_COMPLEX"
      ],
      "metadata": {
        "id": "yEONS4WLpj3P"
      },
      "execution_count": null,
      "outputs": []
    },
    {
      "cell_type": "code",
      "source": [
        "!wget \"https://drive.google.com/uc?export=download&id=1PZ_6Zsy1Vb0s0JmjEmVd8FS99zoMCiN1\""
      ],
      "metadata": {
        "colab": {
          "base_uri": "https://localhost:8080/"
        },
        "id": "g9QV6v9vp3Au",
        "outputId": "b0fca877-6ea2-455a-8a68-007b94f8b864"
      },
      "execution_count": null,
      "outputs": [
        {
          "output_type": "stream",
          "name": "stdout",
          "text": [
            "--2023-01-04 16:57:18--  https://drive.google.com/uc?export=download&id=1PZ_6Zsy1Vb0s0JmjEmVd8FS99zoMCiN1\n",
            "Resolving drive.google.com (drive.google.com)... 142.250.159.139, 142.250.159.100, 142.250.159.102, ...\n",
            "Connecting to drive.google.com (drive.google.com)|142.250.159.139|:443... connected.\n",
            "HTTP request sent, awaiting response... 303 See Other\n",
            "Location: https://doc-04-4s-docs.googleusercontent.com/docs/securesc/ha0ro937gcuc7l7deffksulhg5h7mbp1/gh6op6c6i1t4bdlea81e9fk26sp8pstd/1672851375000/09379222848295305915/*/1PZ_6Zsy1Vb0s0JmjEmVd8FS99zoMCiN1?e=download&uuid=adf86db0-730c-458b-85ef-f5f15f82bf54 [following]\n",
            "Warning: wildcards not supported in HTTP.\n",
            "--2023-01-04 16:57:22--  https://doc-04-4s-docs.googleusercontent.com/docs/securesc/ha0ro937gcuc7l7deffksulhg5h7mbp1/gh6op6c6i1t4bdlea81e9fk26sp8pstd/1672851375000/09379222848295305915/*/1PZ_6Zsy1Vb0s0JmjEmVd8FS99zoMCiN1?e=download&uuid=adf86db0-730c-458b-85ef-f5f15f82bf54\n",
            "Resolving doc-04-4s-docs.googleusercontent.com (doc-04-4s-docs.googleusercontent.com)... 74.125.126.132, 2607:f8b0:4001:c1d::84\n",
            "Connecting to doc-04-4s-docs.googleusercontent.com (doc-04-4s-docs.googleusercontent.com)|74.125.126.132|:443... connected.\n",
            "HTTP request sent, awaiting response... 200 OK\n",
            "Length: 92397640 (88M) [application/octet-stream]\n",
            "Saving to: ‘uc?export=download&id=1PZ_6Zsy1Vb0s0JmjEmVd8FS99zoMCiN1’\n",
            "\n",
            "uc?export=download& 100%[===================>]  88.12M   209MB/s    in 0.4s    \n",
            "\n",
            "2023-01-04 16:57:22 (209 MB/s) - ‘uc?export=download&id=1PZ_6Zsy1Vb0s0JmjEmVd8FS99zoMCiN1’ saved [92397640/92397640]\n",
            "\n"
          ]
        }
      ]
    },
    {
      "cell_type": "code",
      "source": [
        "MyFaceNet = FaceNet()"
      ],
      "metadata": {
        "id": "gHGDzPIXp5X6"
      },
      "execution_count": null,
      "outputs": []
    },
    {
      "cell_type": "code",
      "source": [
        "from keras_facenet import FaceNet"
      ],
      "metadata": {
        "id": "wnvnaCT4rjUV"
      },
      "execution_count": null,
      "outputs": []
    },
    {
      "cell_type": "code",
      "source": [
        "folder='fotoPeserta/'\n",
        "database = {}\n",
        "\n",
        "for filename in listdir(folder):\n",
        "\n",
        "    path = folder + filename\n",
        "    gbr1 = cv2.imread(folder + filename)\n",
        "    \n",
        "    wajah = HaarCascade.detectMultiScale(gbr1,1.1,4)\n",
        "    \n",
        "    if len(wajah)>0:\n",
        "        x1, y1, width, height = wajah[0]         \n",
        "    else:\n",
        "        x1, y1, width, height = 1, 1, 10, 10\n",
        "        \n",
        "    x1, y1 = abs(x1), abs(y1)\n",
        "    x2, y2 = x1 + width, y1 + height\n",
        "    \n",
        "    gbr = cv2.cvtColor(gbr1, cv2.COLOR_BGR2RGB)\n",
        "    gbr = Img.fromarray(gbr)                  # konversi dari OpenCV ke PIL\n",
        "    gbr_array = asarray(gbr)\n",
        "    \n",
        "    face = gbr_array[y1:y2, x1:x2]                        \n",
        "    \n",
        "    face = Img.fromarray(face)                       \n",
        "    face = face.resize((160,160))\n",
        "    face = asarray(face)\n",
        "    \n",
        "    face = expand_dims(face, axis=0)\n",
        "    signature = MyFaceNet.embeddings(face)\n",
        "    \n",
        "    database[os.path.splitext(filename)[0]]=signature"
      ],
      "metadata": {
        "colab": {
          "base_uri": "https://localhost:8080/"
        },
        "id": "YnnD48GnsGWe",
        "outputId": "0e4544a5-6c6f-4a8f-ec75-3c5b66fad34a"
      },
      "execution_count": null,
      "outputs": [
        {
          "output_type": "stream",
          "name": "stdout",
          "text": [
            "1/1 [==============================] - 2s 2s/step\n",
            "1/1 [==============================] - 0s 110ms/step\n"
          ]
        }
      ]
    },
    {
      "cell_type": "code",
      "source": [
        "database"
      ],
      "metadata": {
        "colab": {
          "base_uri": "https://localhost:8080/"
        },
        "id": "vbqCh8vfuvet",
        "outputId": "76c11940-0feb-4064-f9e2-26a4be3d4489"
      },
      "execution_count": null,
      "outputs": [
        {
          "output_type": "execute_result",
          "data": {
            "text/plain": [
              "{'lidia ginting': array([[ 1.18979504e-02, -1.79303735e-02, -1.73233002e-02,\n",
              "          2.24626772e-02, -8.15786701e-03, -3.42205763e-02,\n",
              "          4.76192795e-02,  4.65703243e-03, -1.77868139e-02,\n",
              "         -9.08764545e-03,  6.51696399e-02,  2.45436952e-02,\n",
              "          1.97747517e-02,  7.38596264e-03,  1.38453497e-02,\n",
              "          8.41129012e-03,  1.10195138e-01,  5.90713285e-02,\n",
              "          4.14193561e-03,  4.22017761e-02,  3.52968648e-02,\n",
              "          3.10462173e-02,  5.51487356e-02, -4.49166223e-02,\n",
              "         -4.42272834e-02, -2.31424589e-02,  3.64290476e-02,\n",
              "         -2.61070225e-02,  7.19705224e-02,  4.43043411e-02,\n",
              "         -1.34783061e-02, -4.77032177e-03, -5.30998670e-02,\n",
              "          3.63745354e-02, -1.24796224e-03, -4.92799170e-02,\n",
              "         -8.07545632e-02, -2.86993515e-02, -1.52875399e-02,\n",
              "          7.56181180e-02,  1.43305222e-02, -5.08933403e-02,\n",
              "         -3.18763293e-02,  6.92324415e-02, -3.26410681e-02,\n",
              "         -9.72199545e-04,  5.68388738e-02,  6.95324764e-02,\n",
              "         -7.22180903e-02,  5.58292717e-02, -5.29865287e-02,\n",
              "         -1.90677214e-02,  2.52623875e-02, -2.72796333e-05,\n",
              "          3.27541605e-02, -3.63427885e-02, -2.27822550e-02,\n",
              "          5.98911056e-03,  2.24967673e-02,  2.16221567e-02,\n",
              "          1.76410042e-02,  8.15833881e-02,  4.40637693e-02,\n",
              "          4.43676636e-02,  6.03810251e-02, -1.63245555e-02,\n",
              "         -2.75470037e-02, -2.81432681e-02, -3.14786620e-02,\n",
              "         -4.61580046e-02,  6.69163093e-03,  8.57149139e-02,\n",
              "         -3.29171121e-02, -1.15846489e-02, -1.35878306e-02,\n",
              "          2.77569499e-02,  1.86875146e-02, -5.40529676e-02,\n",
              "          3.41475755e-03, -1.07046768e-01,  3.31496745e-02,\n",
              "         -1.87197663e-02, -6.59553632e-02,  1.34570701e-02,\n",
              "          5.86840964e-04, -3.55431624e-02,  2.30567772e-02,\n",
              "         -8.60346574e-03,  4.47515547e-02, -6.31462187e-02,\n",
              "          5.05923182e-02, -2.01609600e-02, -6.62124529e-02,\n",
              "         -1.30071845e-02,  6.78680092e-02, -3.44949551e-02,\n",
              "         -7.62943700e-02,  1.37820281e-02, -9.71343666e-02,\n",
              "         -2.96449102e-02,  8.20232108e-02, -3.43471430e-02,\n",
              "         -1.27452780e-02,  5.06915003e-02, -1.94809698e-02,\n",
              "          3.39308381e-02,  4.48645949e-02,  1.23778051e-02,\n",
              "         -3.63516137e-02,  4.25543226e-02, -1.87106133e-02,\n",
              "          1.55386422e-02,  3.62167181e-03, -2.70325225e-02,\n",
              "         -4.41071503e-02, -7.24530816e-02, -7.60011822e-02,\n",
              "          8.13067779e-02, -8.77645146e-03,  4.09637056e-02,\n",
              "          3.89317311e-02,  5.00962790e-03,  3.20814289e-02,\n",
              "         -1.09642513e-01, -1.22304648e-01,  1.56548675e-02,\n",
              "          1.32679446e-02, -1.55362599e-02,  4.30051833e-02,\n",
              "         -4.81412560e-03,  1.68817898e-03, -4.82211262e-02,\n",
              "         -3.98370922e-02, -1.46263503e-02, -2.90246289e-02,\n",
              "         -6.03579450e-03, -8.04265365e-02,  2.64723878e-03,\n",
              "          4.13786657e-02,  6.55042082e-02,  1.26100359e-02,\n",
              "          9.59597975e-02,  2.18068380e-02, -7.72460969e-03,\n",
              "         -3.87791432e-02,  2.55310889e-02,  5.73121905e-02,\n",
              "          1.45797303e-03, -2.21159626e-02,  2.55275648e-02,\n",
              "          8.53969902e-02, -1.48177147e-02, -3.99629548e-02,\n",
              "          1.36858914e-02,  2.62214020e-02, -3.33276168e-02,\n",
              "         -1.09251291e-01, -3.23703885e-02, -1.01274513e-02,\n",
              "         -2.04042941e-02, -1.12317055e-02,  6.12341985e-03,\n",
              "         -4.74335030e-02,  1.13652498e-01,  2.44861729e-02,\n",
              "          4.01470624e-02,  1.16401934e-03,  3.16030323e-03,\n",
              "         -6.32955059e-02, -6.71618804e-02, -2.25698762e-02,\n",
              "         -2.46619806e-02,  2.23759413e-02,  4.25465032e-03,\n",
              "          1.34597505e-02,  8.98245573e-02, -6.68242425e-02,\n",
              "          3.48132513e-02,  6.54048249e-02,  7.47043593e-03,\n",
              "         -4.10095081e-02, -5.89086637e-02,  3.47003192e-02,\n",
              "          8.75070225e-03, -2.86508854e-02,  1.05661666e-02,\n",
              "          7.04130679e-02,  5.97888511e-03, -5.66265509e-02,\n",
              "         -6.32662028e-02,  7.95996115e-02, -3.21273841e-02,\n",
              "          6.57043010e-02,  5.24155423e-03,  5.44463582e-02,\n",
              "         -5.61576076e-02, -1.11871712e-01,  5.02347201e-03,\n",
              "         -3.58425528e-02,  8.43344722e-03,  5.13747036e-02,\n",
              "         -1.32610556e-02,  2.30215844e-02, -5.35281971e-02,\n",
              "          1.17941909e-02, -6.78340765e-03,  3.51039395e-02,\n",
              "         -3.14532816e-02,  1.87338162e-02, -8.23078677e-02,\n",
              "          8.16125050e-03,  1.01828370e-02, -4.12762761e-02,\n",
              "          2.44338345e-02, -8.29743966e-02, -7.62377977e-02,\n",
              "          3.50729339e-02,  2.10551862e-02, -7.32432632e-03,\n",
              "          8.74822512e-02, -1.82283986e-02, -3.04380897e-02,\n",
              "         -1.97386630e-02, -7.26674171e-03,  7.62605891e-02,\n",
              "          2.26208027e-02,  1.84283871e-02,  5.07321535e-03,\n",
              "         -7.85585791e-02, -2.40509510e-02, -2.03176029e-02,\n",
              "          1.38521995e-02,  1.53264301e-02, -7.30873197e-02,\n",
              "         -5.03331050e-02,  2.68335789e-02,  9.95977968e-03,\n",
              "          3.81705984e-02, -1.29569601e-02,  2.49437410e-02,\n",
              "         -1.96827333e-02, -6.76237121e-02,  4.10587154e-03,\n",
              "          3.64899635e-02,  3.45606804e-02,  4.06652838e-02,\n",
              "         -4.74616662e-02, -1.83680560e-02,  1.06433537e-02,\n",
              "          2.11761755e-04, -3.34992670e-02,  4.41932082e-02,\n",
              "         -3.65576521e-02,  3.58370543e-02, -1.22213602e-01,\n",
              "          1.54442305e-03, -1.22984136e-02,  1.91765483e-02,\n",
              "          3.84926167e-03,  1.67904478e-02, -3.90161090e-02,\n",
              "         -8.19044486e-02,  3.83161530e-02,  2.18520244e-03,\n",
              "         -6.65909573e-02,  1.51257105e-02,  3.88570614e-02,\n",
              "         -4.17721570e-02,  4.89678467e-03, -4.94782962e-02,\n",
              "          1.11572608e-01, -2.25978028e-02,  7.65303895e-02,\n",
              "          3.11122704e-02, -3.37526724e-02,  3.11966669e-02,\n",
              "         -5.18409982e-02, -2.27421857e-02, -5.07291816e-02,\n",
              "         -3.36921178e-02,  4.04308289e-02, -3.05579603e-02,\n",
              "         -8.27103970e-04, -5.01295067e-02, -2.21125893e-02,\n",
              "          2.26511005e-02, -1.76960975e-02, -5.32788001e-02,\n",
              "         -1.82158104e-03,  1.69989597e-02, -1.08407205e-02,\n",
              "         -4.69308272e-02, -1.96664222e-02, -1.38663827e-02,\n",
              "         -2.70848870e-02, -7.17678741e-02, -2.29704045e-02,\n",
              "         -8.69094878e-02,  2.00961046e-02, -6.06130846e-02,\n",
              "          8.30573514e-02, -6.71965349e-03,  1.70845017e-02,\n",
              "         -6.48159487e-03,  4.28450666e-02,  8.86405446e-03,\n",
              "         -2.49875952e-02,  4.06022891e-02, -3.43120806e-02,\n",
              "          8.96122232e-02,  4.02017422e-02,  4.11628193e-04,\n",
              "          3.64351086e-02,  6.89010099e-02,  4.36608344e-02,\n",
              "         -1.64613836e-02, -2.96933129e-02,  2.36210339e-02,\n",
              "          4.04883735e-02, -5.88498265e-02, -3.83458883e-02,\n",
              "         -1.01390947e-02, -2.04534717e-02,  3.36441807e-02,\n",
              "          4.08065356e-02,  1.20860552e-02,  7.59528205e-02,\n",
              "          1.07668929e-01,  4.52879854e-02,  5.07733710e-02,\n",
              "         -1.34061389e-02,  9.73861851e-03, -9.23917666e-02,\n",
              "          3.39663438e-02,  2.70713195e-02, -1.95425265e-02,\n",
              "          4.50801663e-02, -5.90954870e-02, -3.99331339e-02,\n",
              "          7.01587945e-02,  1.51647320e-02, -9.80184600e-03,\n",
              "          9.83265787e-03,  1.28592802e-02,  2.02603173e-02,\n",
              "          6.84592426e-02, -7.74203055e-03,  1.24910055e-02,\n",
              "         -2.75272951e-02,  4.96577146e-03,  5.75713553e-02,\n",
              "         -2.39840336e-02,  3.65752131e-02, -9.75888316e-03,\n",
              "         -6.81220070e-02,  5.35417125e-02,  7.91179985e-02,\n",
              "         -4.36083041e-03,  5.47194742e-02, -2.22899746e-02,\n",
              "         -5.74332103e-02, -2.79098619e-02, -4.43221703e-02,\n",
              "          4.57669348e-02,  2.61283685e-02,  9.24085677e-02,\n",
              "          3.31351813e-03,  6.85084669e-05, -3.60363200e-02,\n",
              "          1.36765430e-03, -1.11074165e-01, -4.77425195e-03,\n",
              "          2.39533205e-02,  1.98193379e-02,  3.88821773e-02,\n",
              "          7.52183944e-02,  1.60089489e-02,  7.66140455e-03,\n",
              "         -3.10646556e-02, -2.77643297e-02,  2.40389202e-02,\n",
              "         -2.69895587e-02, -3.76970768e-02, -8.67461134e-03,\n",
              "          7.12869763e-02,  6.86474741e-02,  3.65027562e-02,\n",
              "          5.58133870e-02, -4.59014848e-02, -4.14562561e-02,\n",
              "          2.36900263e-02,  2.94265244e-02, -1.05007812e-01,\n",
              "         -2.77460292e-02,  2.49801520e-02, -1.70481894e-02,\n",
              "         -7.28061721e-02,  2.05991585e-02, -6.43725973e-03,\n",
              "         -1.34531995e-02, -1.19874105e-02,  4.30894531e-02,\n",
              "          1.00508124e-01,  8.95371512e-02, -1.76447667e-02,\n",
              "         -5.72130270e-03, -1.81143284e-02, -1.08144302e-02,\n",
              "          4.71582748e-02, -4.55273874e-02,  1.14417560e-02,\n",
              "          1.89883616e-02, -2.19177660e-02,  2.80460957e-02,\n",
              "         -1.60848796e-02, -6.06845766e-02,  3.33357565e-02,\n",
              "          3.89124118e-02,  6.18929900e-02, -6.90285191e-02,\n",
              "         -1.56502742e-02,  2.07677875e-02, -2.22305811e-04,\n",
              "          4.02904712e-02,  2.76738708e-03, -5.54553047e-02,\n",
              "          6.46202937e-02,  2.06405837e-02, -1.76276360e-02,\n",
              "          2.13996340e-02, -2.68617254e-02,  2.45714765e-02,\n",
              "          3.47077847e-03,  1.32732524e-03, -1.65247265e-02,\n",
              "          4.20394912e-02, -2.93265935e-02, -2.88553014e-02,\n",
              "          4.40584980e-02,  2.92508360e-02, -7.07339570e-02,\n",
              "         -4.55254316e-02,  1.89396665e-02, -1.26498071e-02,\n",
              "          3.45402844e-02, -3.05328779e-02,  4.50959504e-02,\n",
              "          3.73380519e-02, -7.49252364e-02,  4.22339663e-02,\n",
              "         -1.80555303e-02, -6.55427342e-03,  2.07655262e-02,\n",
              "          1.03910286e-02, -5.30669792e-03, -9.15831327e-03,\n",
              "         -3.74580696e-02,  3.17721255e-02, -4.78462987e-02,\n",
              "          5.30721471e-02,  2.24331729e-02,  2.34069247e-02,\n",
              "          2.25192737e-02,  4.82866839e-02,  8.26136954e-03,\n",
              "          5.27231896e-04,  4.74501103e-02, -1.17896553e-02,\n",
              "          2.92461012e-02, -1.32918824e-04,  5.13410419e-02,\n",
              "         -4.95739980e-03,  1.38701499e-01,  2.55596312e-03,\n",
              "         -8.16087946e-02,  1.03075337e-02,  2.75179967e-02,\n",
              "          8.57939571e-02, -4.76000682e-02, -5.70426732e-02,\n",
              "          6.98269531e-02, -1.05423853e-02,  2.13763472e-02,\n",
              "          7.04363436e-02, -3.97027358e-02,  6.33495376e-02,\n",
              "         -5.84110245e-02,  4.16693278e-02, -2.63213599e-03,\n",
              "         -8.09832662e-03, -1.44072194e-02, -7.76892602e-02,\n",
              "         -4.44169976e-02, -5.94775602e-02, -4.48449655e-03,\n",
              "         -7.08522275e-02,  5.26133850e-02,  2.92291418e-02,\n",
              "          4.68519181e-02, -1.72067918e-02, -4.10419442e-02,\n",
              "         -3.14709209e-02,  3.27114090e-02, -1.02984663e-02,\n",
              "         -6.87307417e-02,  3.26822326e-02,  1.45545155e-02,\n",
              "          7.24699423e-02, -7.74316937e-02, -1.61969904e-02,\n",
              "         -1.63510125e-02, -1.18835280e-02]], dtype=float32),\n",
              " 'wahyu simamora': array([[ 0.03349759,  0.00835736, -0.03499816,  0.05399938,  0.04138864,\n",
              "         -0.03198851,  0.01951827,  0.013084  , -0.01080235,  0.00147137,\n",
              "          0.05782622,  0.0017251 ,  0.03577948,  0.00153764, -0.01745342,\n",
              "          0.01147129, -0.01558128,  0.03778629, -0.04719947,  0.05866964,\n",
              "          0.05880325,  0.00796556,  0.03888509, -0.05419999, -0.04629362,\n",
              "          0.03820281,  0.05577372, -0.05718958,  0.00351977, -0.00526037,\n",
              "          0.08386567,  0.0249504 , -0.05670326, -0.01049367, -0.00490327,\n",
              "         -0.04749984,  0.03820487, -0.06961633, -0.00992432, -0.01739359,\n",
              "         -0.07464954, -0.0116172 ,  0.02980731,  0.01596413,  0.00398683,\n",
              "          0.01277702,  0.01711237,  0.01129237, -0.04373803,  0.00824997,\n",
              "         -0.00815862, -0.09516585, -0.00328212, -0.01368797, -0.04182916,\n",
              "         -0.03487033, -0.00728967, -0.06381868, -0.01923911,  0.01807096,\n",
              "         -0.0211144 ,  0.08719459, -0.04708204,  0.07667644, -0.04451385,\n",
              "         -0.01852139, -0.05319169, -0.04210087,  0.06105735, -0.05087911,\n",
              "         -0.03232474,  0.00817505,  0.02210956,  0.02252916, -0.03533222,\n",
              "         -0.01649428, -0.01026668, -0.09189207, -0.01822468, -0.05077343,\n",
              "          0.06516477, -0.01024541,  0.01009741, -0.0037054 ,  0.00116982,\n",
              "          0.01586612, -0.04118776, -0.00488065,  0.02206164, -0.01640781,\n",
              "         -0.01181722,  0.05363581,  0.02485812, -0.00927638,  0.08094144,\n",
              "          0.05221171, -0.05896447, -0.01591667, -0.03396143, -0.02010376,\n",
              "          0.02619643,  0.07723276,  0.03520301,  0.08609038,  0.00911729,\n",
              "         -0.04657982, -0.06069833, -0.10979917, -0.04153303, -0.01513871,\n",
              "          0.05524226,  0.06608016,  0.01079637, -0.016503  , -0.01504369,\n",
              "         -0.07584795, -0.0494142 ,  0.02889089, -0.00548931,  0.05375082,\n",
              "          0.048945  ,  0.00985083,  0.00929333, -0.08201094, -0.06612536,\n",
              "         -0.0559779 ,  0.0031068 , -0.03568291,  0.05702497, -0.03439375,\n",
              "          0.05452016,  0.05279377, -0.03721606,  0.00263188,  0.01398145,\n",
              "          0.04178384, -0.05602755, -0.08310303,  0.00811679,  0.10215374,\n",
              "         -0.01064198,  0.07996096, -0.09323376,  0.0001796 ,  0.00022737,\n",
              "         -0.02259145,  0.00509657,  0.00333439,  0.0614079 ,  0.05189937,\n",
              "          0.03698745,  0.03110544,  0.01518774,  0.03881969,  0.054121  ,\n",
              "          0.02357027, -0.08382577,  0.00918414, -0.0336579 , -0.08023706,\n",
              "          0.04208748,  0.00858932, -0.01300387,  0.01865514,  0.02712506,\n",
              "         -0.01916742, -0.02596189,  0.00531738, -0.02278158, -0.06138407,\n",
              "         -0.04738749,  0.01127155, -0.02953008,  0.06130734,  0.04407123,\n",
              "          0.0308704 , -0.09426456,  0.02973822,  0.04815583,  0.03580706,\n",
              "         -0.03818166, -0.01263789, -0.03144804, -0.06480794, -0.03714406,\n",
              "          0.02622361,  0.04617561,  0.02817894,  0.02142473,  0.01999373,\n",
              "          0.00281467,  0.00585038,  0.06488369, -0.02307641,  0.05633717,\n",
              "          0.01004555, -0.05540065,  0.03833736,  0.05607269, -0.01625686,\n",
              "          0.02532304, -0.03849515, -0.00530789,  0.00291442,  0.07684992,\n",
              "          0.10348974,  0.0582146 ,  0.00565428,  0.01195063, -0.04134076,\n",
              "         -0.00549972,  0.03479972,  0.04332535,  0.02449271, -0.01408822,\n",
              "         -0.02122462, -0.03581333,  0.0103015 ,  0.00584413, -0.00250509,\n",
              "         -0.02145845, -0.02042606,  0.04954197,  0.07391515,  0.09426504,\n",
              "          0.01421396, -0.00453016, -0.01034733, -0.02244208,  0.00303741,\n",
              "          0.04624919,  0.03940956, -0.02016118, -0.00808291, -0.03410793,\n",
              "         -0.04734362, -0.06992842,  0.03493389,  0.03442653, -0.00415111,\n",
              "          0.00588264,  0.02348625,  0.0193703 ,  0.02371407, -0.04161031,\n",
              "          0.02814283, -0.02610907,  0.05381242, -0.0248621 ,  0.10451191,\n",
              "         -0.11265191, -0.05451639,  0.03846025, -0.01958541, -0.02753617,\n",
              "         -0.07926562, -0.03626149,  0.03884273,  0.052854  , -0.06175293,\n",
              "         -0.02281179, -0.02319223,  0.04579169,  0.0036992 ,  0.0529724 ,\n",
              "         -0.02489857, -0.0282286 , -0.015541  ,  0.03510105, -0.08759359,\n",
              "          0.06407151, -0.03951652,  0.13811333,  0.02295629,  0.02221975,\n",
              "          0.08773012,  0.05361279,  0.05829199, -0.03873831,  0.00887122,\n",
              "         -0.04840235,  0.03238938,  0.01488873, -0.02240232, -0.06164135,\n",
              "         -0.04248232,  0.01380865, -0.05166558,  0.0203397 ,  0.0853268 ,\n",
              "         -0.01900079, -0.05426626, -0.11183745,  0.04421045, -0.0327319 ,\n",
              "         -0.03309632, -0.03500023, -0.10402253, -0.03532589, -0.04457283,\n",
              "         -0.00696599,  0.0486129 , -0.000711  , -0.04764977,  0.03354039,\n",
              "          0.04706658, -0.07366846,  0.02482567, -0.03034268,  0.0276364 ,\n",
              "          0.01465852,  0.02475438, -0.00102107, -0.00535225,  0.03494079,\n",
              "          0.0283001 , -0.03389553,  0.03815708,  0.06364941,  0.01419843,\n",
              "         -0.01314249, -0.05015052, -0.00471769,  0.0505661 ,  0.04009175,\n",
              "          0.03895317,  0.06026498,  0.08659214, -0.01443847, -0.03589886,\n",
              "          0.03755177, -0.0035813 , -0.08319066,  0.02822571, -0.02608058,\n",
              "         -0.03542016,  0.05320446, -0.05471634,  0.00225283, -0.01660475,\n",
              "          0.0628187 , -0.04943422,  0.03672836, -0.00692219,  0.01381692,\n",
              "          0.04861651,  0.0363408 ,  0.00440217, -0.01969669, -0.00118118,\n",
              "         -0.00943071, -0.00255665,  0.08728676, -0.0646513 ,  0.02998257,\n",
              "          0.00422002,  0.00232925, -0.0039496 ,  0.00282293, -0.07203801,\n",
              "          0.03300368, -0.05102763, -0.00748379, -0.04597197,  0.11310954,\n",
              "         -0.00805331, -0.0216605 , -0.04026148, -0.04337121, -0.01837676,\n",
              "         -0.04877271, -0.05233495,  0.010142  ,  0.03425295, -0.02019486,\n",
              "          0.08107828,  0.03704268,  0.0763053 , -0.0273839 ,  0.05210675,\n",
              "         -0.04054047, -0.05445525,  0.03363749, -0.0127885 , -0.01084403,\n",
              "         -0.00067059,  0.00894647,  0.04057204, -0.05922401, -0.01935878,\n",
              "          0.00583751,  0.01006621, -0.05032775,  0.03447168,  0.08756994,\n",
              "          0.06969983, -0.02478844,  0.1260629 , -0.03700866, -0.10052055,\n",
              "         -0.03693789, -0.07853503,  0.02592866,  0.08340564,  0.03067301,\n",
              "          0.04321565, -0.08127766,  0.04633297,  0.01629477, -0.01837455,\n",
              "          0.0465504 , -0.00452289,  0.02322618,  0.00291393, -0.02001362,\n",
              "          0.00950427,  0.06414299,  0.0146878 , -0.00351756, -0.02897295,\n",
              "         -0.01935424, -0.00431136, -0.04436572, -0.04459925, -0.02513534,\n",
              "          0.08604989,  0.00883324,  0.02551167,  0.07894911,  0.04186292,\n",
              "         -0.07071554,  0.00562978,  0.00445475,  0.02649491,  0.04526563,\n",
              "          0.04083614, -0.03236656,  0.00401491, -0.00777669, -0.00359339,\n",
              "         -0.05583809,  0.00499115, -0.03613049,  0.02195651,  0.01340656,\n",
              "          0.04936194, -0.00971823,  0.02126441,  0.05491343, -0.02775756,\n",
              "         -0.01371668, -0.00629315,  0.03587207, -0.00529371, -0.02147813,\n",
              "          0.05852584, -0.05667701,  0.01796952,  0.03445712,  0.03453751,\n",
              "          0.06329864,  0.04451288,  0.01467926,  0.00409435, -0.05338053,\n",
              "         -0.01072317, -0.00521782, -0.02737834,  0.02466461,  0.03965664,\n",
              "          0.04705654,  0.04639965,  0.02747621, -0.02273597, -0.05129609,\n",
              "         -0.00231011, -0.00858222,  0.00092324, -0.02201752, -0.03123173,\n",
              "         -0.00295951, -0.00400903,  0.02356506,  0.08343855, -0.06284146,\n",
              "          0.02015723, -0.08073424,  0.08140332,  0.01039685, -0.06892231,\n",
              "          0.02614424, -0.10624118, -0.01584744,  0.00571243,  0.0890016 ,\n",
              "         -0.04526434,  0.01752675, -0.02636164,  0.07842187, -0.03406686,\n",
              "          0.02638575, -0.08777893, -0.01307231, -0.05521237, -0.04617845,\n",
              "          0.09486765,  0.03504236,  0.05257015, -0.00751767, -0.03599871,\n",
              "          0.06460615,  0.01500267]], dtype=float32)}"
            ]
          },
          "metadata": {},
          "execution_count": 33
        }
      ]
    },
    {
      "cell_type": "code",
      "source": [
        "myfile = open(\"data.pkl\", \"wb\")\n",
        "pickle.dump(database, myfile)\n",
        "myfile.close()"
      ],
      "metadata": {
        "id": "97f9Hcvow83j"
      },
      "execution_count": null,
      "outputs": []
    },
    {
      "cell_type": "code",
      "source": [
        "myfile = open(\"data.pkl\", \"rb\")\n",
        "database = pickle.load(myfile)\n",
        "myfile.close()"
      ],
      "metadata": {
        "id": "6-eFs3bjxDv7"
      },
      "execution_count": null,
      "outputs": []
    },
    {
      "cell_type": "code",
      "source": [
        "def js_to_image(js_reply):\n",
        "  image_bytes = b64decode(js_reply.split(',')[1])\n",
        "  jpg_as_np = np.frombuffer(image_bytes, dtype=np.uint8)\n",
        "  img = cv2.imdecode(jpg_as_np, flags=1)\n",
        "  return img"
      ],
      "metadata": {
        "id": "1988R4Akyj6g"
      },
      "execution_count": null,
      "outputs": []
    },
    {
      "cell_type": "code",
      "source": [
        "def findFaces(data):\n",
        "  gbr1 = js_to_image(data)\n",
        "  gbr = cv2.cvtColor(gbr1, cv2.COLOR_BGR2RGB)\n",
        "  gbr = Img.fromarray(gbr)                  # konversi dari OpenCV ke PIL\n",
        "  gbr_array = asarray(gbr)\n",
        " \n",
        "  wajah = HaarCascade.detectMultiScale(gbr1,1.1,4)\n",
        "  \n",
        "  for (x1,y1,w,h) in wajah:\n",
        "      x1, y1 = abs(x1), abs(y1)\n",
        "      x2, y2 = x1 + w, y1 + h\n",
        "    \n",
        "      face = gbr_array[y1:y2, x1:x2]                        \n",
        "    \n",
        "      face = Img.fromarray(face)                       \n",
        "      face = face.resize((160,160))\n",
        "      face = asarray(face)\n",
        "    \n",
        "      face = expand_dims(face, axis=0)\n",
        "      signature = MyFaceNet.embeddings(face)\n",
        "    \n",
        "      min_dist=100\n",
        "      identity=' '\n",
        "      for key, value in database.items() :\n",
        "        dist = np.linalg.norm(value-signature)\n",
        "        if dist < min_dist:\n",
        "          min_dist = dist\n",
        "          identity = key\n",
        "            \n",
        "      cv2.putText(gbr1,identity, (x1,y1),cv2.FONT_HERSHEY_SIMPLEX, 0.5, (255, 255, 0), 1, cv2.LINE_AA)\n",
        "      cv2.rectangle(gbr1,(x1,y1),(x2,y2), (0,255,0), 2)\n",
        "  \n",
        "  filename='photo.jpg'\n",
        "  cv2.imwrite(filename, gbr1)\n",
        "  \n",
        "  return filename"
      ],
      "metadata": {
        "id": "DKuxLbe7xLxY"
      },
      "execution_count": null,
      "outputs": []
    },
    {
      "cell_type": "code",
      "source": [
        "from IPython.display import display, Javascript\n",
        "from google.colab.output import eval_js\n",
        "from base64 import b64decode\n",
        "\n",
        "def take_photo(filename='photo.jpg', quality=0.8):\n",
        "  js = Javascript('''\n",
        "    async function takePhoto(quality) {\n",
        "      const div = document.createElement('div');\n",
        "      const capture = document.createElement('button');\n",
        "      capture.textContent = 'Capture';\n",
        "      div.appendChild(capture);\n",
        "\n",
        "      const video = document.createElement('video');\n",
        "      video.style.display = 'block';\n",
        "      const stream = await navigator.mediaDevices.getUserMedia({video: true});\n",
        "\n",
        "      document.body.appendChild(div);\n",
        "      div.appendChild(video);\n",
        "      video.srcObject = stream;\n",
        "      await video.play();\n",
        "\n",
        "      // Resize the output to fit the video element.\n",
        "      google.colab.output.setIframeHeight(document.documentElement.scrollHeight, true);\n",
        "\n",
        "      // Wait for Capture to be clicked.\n",
        "      await new Promise((resolve) => capture.onclick = resolve);\n",
        "\n",
        "      const canvas = document.createElement('canvas');\n",
        "      canvas.width = video.videoWidth;\n",
        "      canvas.height = video.videoHeight;\n",
        "      canvas.getContext('2d').drawImage(video, 0, 0);\n",
        "      stream.getVideoTracks()[0].stop();\n",
        "      div.remove();\n",
        "      return canvas.toDataURL('image/jpeg', quality);\n",
        "    }\n",
        "    ''')\n",
        "  display(js)\n",
        "  data = eval_js('takePhoto({})'.format(quality))\n",
        " \n",
        "  filename=findFaces(data)\n",
        "\n",
        "  return filename"
      ],
      "metadata": {
        "id": "FL2YVdS3xcQM"
      },
      "execution_count": null,
      "outputs": []
    },
    {
      "cell_type": "code",
      "source": [
        "from IPython.display import Image\n",
        "try:\n",
        "  filename = take_photo()\n",
        "  print('Saved to {}'.format(filename))\n",
        "  \n",
        "  # Show the image which was just taken.\n",
        "  display(Image(filename))\n",
        "except Exception as err:\n",
        "  # Errors will be thrown if the user does not have a webcam or if they do not\n",
        "  # grant the page permission to access it.\n",
        "  print(str(err))"
      ],
      "metadata": {
        "colab": {
          "base_uri": "https://localhost:8080/",
          "height": 532
        },
        "id": "ghY_5HazxcQO",
        "outputId": "56fcdf10-ec19-4c73-8739-8ca14307e303"
      },
      "execution_count": null,
      "outputs": [
        {
          "output_type": "display_data",
          "data": {
            "text/plain": [
              "<IPython.core.display.Javascript object>"
            ],
            "application/javascript": [
              "\n",
              "    async function takePhoto(quality) {\n",
              "      const div = document.createElement('div');\n",
              "      const capture = document.createElement('button');\n",
              "      capture.textContent = 'Capture';\n",
              "      div.appendChild(capture);\n",
              "\n",
              "      const video = document.createElement('video');\n",
              "      video.style.display = 'block';\n",
              "      const stream = await navigator.mediaDevices.getUserMedia({video: true});\n",
              "\n",
              "      document.body.appendChild(div);\n",
              "      div.appendChild(video);\n",
              "      video.srcObject = stream;\n",
              "      await video.play();\n",
              "\n",
              "      // Resize the output to fit the video element.\n",
              "      google.colab.output.setIframeHeight(document.documentElement.scrollHeight, true);\n",
              "\n",
              "      // Wait for Capture to be clicked.\n",
              "      await new Promise((resolve) => capture.onclick = resolve);\n",
              "\n",
              "      const canvas = document.createElement('canvas');\n",
              "      canvas.width = video.videoWidth;\n",
              "      canvas.height = video.videoHeight;\n",
              "      canvas.getContext('2d').drawImage(video, 0, 0);\n",
              "      stream.getVideoTracks()[0].stop();\n",
              "      div.remove();\n",
              "      return canvas.toDataURL('image/jpeg', quality);\n",
              "    }\n",
              "    "
            ]
          },
          "metadata": {}
        },
        {
          "output_type": "stream",
          "name": "stdout",
          "text": [
            "1/1 [==============================] - 0s 111ms/step\n",
            "Saved to photo.jpg\n"
          ]
        },
        {
          "output_type": "display_data",
          "data": {
            "image/jpeg": "[encoded data removed]",
            "text/plain": [
              "<IPython.core.display.Image object>"
            ]
          },
          "metadata": {}
        }
      ]
    },
    {
      "cell_type": "code",
      "source": [],
      "metadata": {
        "id": "GPbw2RRoy0I4"
      },
      "execution_count": null,
      "outputs": []
    }
  ]
}